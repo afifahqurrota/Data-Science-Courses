{
 "cells": [
  {
   "cell_type": "markdown",
   "id": "12d77046",
   "metadata": {},
   "source": [
    "#### Import Package & Load Dataset"
   ]
  },
  {
   "cell_type": "code",
   "execution_count": 17,
   "id": "67c64a0c",
   "metadata": {},
   "outputs": [
    {
     "data": {
      "text/html": [
       "<div>\n",
       "<style scoped>\n",
       "    .dataframe tbody tr th:only-of-type {\n",
       "        vertical-align: middle;\n",
       "    }\n",
       "\n",
       "    .dataframe tbody tr th {\n",
       "        vertical-align: top;\n",
       "    }\n",
       "\n",
       "    .dataframe thead th {\n",
       "        text-align: right;\n",
       "    }\n",
       "</style>\n",
       "<table border=\"1\" class=\"dataframe\">\n",
       "  <thead>\n",
       "    <tr style=\"text-align: right;\">\n",
       "      <th></th>\n",
       "      <th>Id</th>\n",
       "      <th>SalePrice</th>\n",
       "    </tr>\n",
       "  </thead>\n",
       "  <tbody>\n",
       "    <tr>\n",
       "      <th>0</th>\n",
       "      <td>1461</td>\n",
       "      <td>169277.052498</td>\n",
       "    </tr>\n",
       "    <tr>\n",
       "      <th>1</th>\n",
       "      <td>1462</td>\n",
       "      <td>187758.393989</td>\n",
       "    </tr>\n",
       "    <tr>\n",
       "      <th>2</th>\n",
       "      <td>1463</td>\n",
       "      <td>183583.683570</td>\n",
       "    </tr>\n",
       "    <tr>\n",
       "      <th>3</th>\n",
       "      <td>1464</td>\n",
       "      <td>179317.477511</td>\n",
       "    </tr>\n",
       "    <tr>\n",
       "      <th>4</th>\n",
       "      <td>1465</td>\n",
       "      <td>150730.079977</td>\n",
       "    </tr>\n",
       "    <tr>\n",
       "      <th>...</th>\n",
       "      <td>...</td>\n",
       "      <td>...</td>\n",
       "    </tr>\n",
       "    <tr>\n",
       "      <th>1454</th>\n",
       "      <td>2915</td>\n",
       "      <td>167081.220949</td>\n",
       "    </tr>\n",
       "    <tr>\n",
       "      <th>1455</th>\n",
       "      <td>2916</td>\n",
       "      <td>164788.778231</td>\n",
       "    </tr>\n",
       "    <tr>\n",
       "      <th>1456</th>\n",
       "      <td>2917</td>\n",
       "      <td>219222.423400</td>\n",
       "    </tr>\n",
       "    <tr>\n",
       "      <th>1457</th>\n",
       "      <td>2918</td>\n",
       "      <td>184924.279659</td>\n",
       "    </tr>\n",
       "    <tr>\n",
       "      <th>1458</th>\n",
       "      <td>2919</td>\n",
       "      <td>187741.866657</td>\n",
       "    </tr>\n",
       "  </tbody>\n",
       "</table>\n",
       "<p>1459 rows × 2 columns</p>\n",
       "</div>"
      ],
      "text/plain": [
       "        Id      SalePrice\n",
       "0     1461  169277.052498\n",
       "1     1462  187758.393989\n",
       "2     1463  183583.683570\n",
       "3     1464  179317.477511\n",
       "4     1465  150730.079977\n",
       "...    ...            ...\n",
       "1454  2915  167081.220949\n",
       "1455  2916  164788.778231\n",
       "1456  2917  219222.423400\n",
       "1457  2918  184924.279659\n",
       "1458  2919  187741.866657\n",
       "\n",
       "[1459 rows x 2 columns]"
      ]
     },
     "execution_count": 17,
     "metadata": {},
     "output_type": "execute_result"
    }
   ],
   "source": [
    "import pandas as pd\n",
    "import numpy as np\n",
    "import seaborn as sns\n",
    "import matplotlib.pyplot as plt\n",
    "import warnings\n",
    "warnings.filterwarnings('ignore')\n",
    "\n",
    "df = pd.read_csv(r\"E:\\MINE\\beasiswa\\2022\\DATA BANGLORE\\ON BOARDING\\EXAM + TASK\\6 - STATISTIC FOR DATA SCIENCE\\sample_submission.csv\")\n",
    "df"
   ]
  },
  {
   "cell_type": "markdown",
   "id": "e9071f8b",
   "metadata": {},
   "source": [
    "#### Data Preprocessing [EDA]"
   ]
  },
  {
   "cell_type": "code",
   "execution_count": 2,
   "id": "45a9a3e8",
   "metadata": {},
   "outputs": [
    {
     "name": "stdout",
     "output_type": "stream",
     "text": [
      "<class 'pandas.core.frame.DataFrame'>\n",
      "RangeIndex: 1459 entries, 0 to 1458\n",
      "Data columns (total 2 columns):\n",
      " #   Column     Non-Null Count  Dtype  \n",
      "---  ------     --------------  -----  \n",
      " 0   Id         1459 non-null   int64  \n",
      " 1   SalePrice  1459 non-null   float64\n",
      "dtypes: float64(1), int64(1)\n",
      "memory usage: 22.9 KB\n"
     ]
    }
   ],
   "source": [
    "df.info()"
   ]
  },
  {
   "cell_type": "code",
   "execution_count": 3,
   "id": "f08e4a2b",
   "metadata": {},
   "outputs": [
    {
     "data": {
      "text/plain": [
       "Id           0\n",
       "SalePrice    0\n",
       "dtype: int64"
      ]
     },
     "execution_count": 3,
     "metadata": {},
     "output_type": "execute_result"
    }
   ],
   "source": [
    "df.isnull().sum()"
   ]
  },
  {
   "cell_type": "code",
   "execution_count": 4,
   "id": "2eb11885",
   "metadata": {},
   "outputs": [
    {
     "data": {
      "text/html": [
       "<div>\n",
       "<style scoped>\n",
       "    .dataframe tbody tr th:only-of-type {\n",
       "        vertical-align: middle;\n",
       "    }\n",
       "\n",
       "    .dataframe tbody tr th {\n",
       "        vertical-align: top;\n",
       "    }\n",
       "\n",
       "    .dataframe thead th {\n",
       "        text-align: right;\n",
       "    }\n",
       "</style>\n",
       "<table border=\"1\" class=\"dataframe\">\n",
       "  <thead>\n",
       "    <tr style=\"text-align: right;\">\n",
       "      <th></th>\n",
       "      <th>SalePrice</th>\n",
       "    </tr>\n",
       "  </thead>\n",
       "  <tbody>\n",
       "    <tr>\n",
       "      <th>count</th>\n",
       "      <td>1459.000000</td>\n",
       "    </tr>\n",
       "    <tr>\n",
       "      <th>mean</th>\n",
       "      <td>179183.918243</td>\n",
       "    </tr>\n",
       "    <tr>\n",
       "      <th>std</th>\n",
       "      <td>16518.303051</td>\n",
       "    </tr>\n",
       "    <tr>\n",
       "      <th>min</th>\n",
       "      <td>135751.318893</td>\n",
       "    </tr>\n",
       "    <tr>\n",
       "      <th>25%</th>\n",
       "      <td>168703.011202</td>\n",
       "    </tr>\n",
       "    <tr>\n",
       "      <th>50%</th>\n",
       "      <td>179208.665698</td>\n",
       "    </tr>\n",
       "    <tr>\n",
       "      <th>75%</th>\n",
       "      <td>186789.409363</td>\n",
       "    </tr>\n",
       "    <tr>\n",
       "      <th>max</th>\n",
       "      <td>281643.976117</td>\n",
       "    </tr>\n",
       "  </tbody>\n",
       "</table>\n",
       "</div>"
      ],
      "text/plain": [
       "           SalePrice\n",
       "count    1459.000000\n",
       "mean   179183.918243\n",
       "std     16518.303051\n",
       "min    135751.318893\n",
       "25%    168703.011202\n",
       "50%    179208.665698\n",
       "75%    186789.409363\n",
       "max    281643.976117"
      ]
     },
     "execution_count": 4,
     "metadata": {},
     "output_type": "execute_result"
    }
   ],
   "source": [
    "hargaRumah = df[['SalePrice']]\n",
    "hargaRumah.describe()"
   ]
  },
  {
   "cell_type": "code",
   "execution_count": 9,
   "id": "4ac165ed",
   "metadata": {},
   "outputs": [
    {
     "data": {
      "text/plain": [
       "SalePrice    179208.665698\n",
       "dtype: float64"
      ]
     },
     "execution_count": 9,
     "metadata": {},
     "output_type": "execute_result"
    }
   ],
   "source": [
    "hargaRumah.median()"
   ]
  },
  {
   "cell_type": "code",
   "execution_count": 10,
   "id": "814ffdf1",
   "metadata": {},
   "outputs": [
    {
     "data": {
      "text/html": [
       "<div>\n",
       "<style scoped>\n",
       "    .dataframe tbody tr th:only-of-type {\n",
       "        vertical-align: middle;\n",
       "    }\n",
       "\n",
       "    .dataframe tbody tr th {\n",
       "        vertical-align: top;\n",
       "    }\n",
       "\n",
       "    .dataframe thead th {\n",
       "        text-align: right;\n",
       "    }\n",
       "</style>\n",
       "<table border=\"1\" class=\"dataframe\">\n",
       "  <thead>\n",
       "    <tr style=\"text-align: right;\">\n",
       "      <th></th>\n",
       "      <th>SalePrice</th>\n",
       "    </tr>\n",
       "  </thead>\n",
       "  <tbody>\n",
       "    <tr>\n",
       "      <th>0</th>\n",
       "      <td>174126.297156</td>\n",
       "    </tr>\n",
       "    <tr>\n",
       "      <th>1</th>\n",
       "      <td>174388.867433</td>\n",
       "    </tr>\n",
       "  </tbody>\n",
       "</table>\n",
       "</div>"
      ],
      "text/plain": [
       "       SalePrice\n",
       "0  174126.297156\n",
       "1  174388.867433"
      ]
     },
     "execution_count": 10,
     "metadata": {},
     "output_type": "execute_result"
    }
   ],
   "source": [
    "hargaRumah.mode()"
   ]
  },
  {
   "cell_type": "code",
   "execution_count": 11,
   "id": "3a97d1ce",
   "metadata": {},
   "outputs": [
    {
     "data": {
      "text/plain": [
       "SalePrice    2.728543e+08\n",
       "dtype: float64"
      ]
     },
     "execution_count": 11,
     "metadata": {},
     "output_type": "execute_result"
    }
   ],
   "source": [
    "hargaRumah.var()"
   ]
  },
  {
   "cell_type": "code",
   "execution_count": 12,
   "id": "c3786307",
   "metadata": {},
   "outputs": [
    {
     "data": {
      "text/plain": [
       "SalePrice    18086.398162\n",
       "dtype: float64"
      ]
     },
     "execution_count": 12,
     "metadata": {},
     "output_type": "execute_result"
    }
   ],
   "source": [
    "hargaRumah.quantile(0.75) - hargaRumah.quantile(0.25)"
   ]
  },
  {
   "cell_type": "code",
   "execution_count": 14,
   "id": "11b20980",
   "metadata": {},
   "outputs": [
    {
     "data": {
      "image/png": "[encoded data removed]",
      "text/plain": [
       "<Figure size 576x288 with 1 Axes>"
      ]
     },
     "metadata": {
      "needs_background": "light"
     },
     "output_type": "display_data"
    }
   ],
   "source": [
    "plt.figure(figsize=(8,4))\n",
    "sns.boxplot(x=\"SalePrice\", data=hargaRumah)\n",
    "plt.show()"
   ]
  },
  {
   "cell_type": "markdown",
   "id": "e44a22c6",
   "metadata": {},
   "source": [
    "Tranformasi data:\n",
    "1. Jenis distribusi pada data diketahui memiliki skew positif, salah satu cara untuk handle data dapat dengan mengeliminasi \n",
    "   outlier.\n",
    "2. Pada data diketahui tidak terdapat missing value sehingga tidak diperlukan adanya handling missing data, melainkan \n",
    "   dibutuhkan proses transformasi data termasuk handling outlier salah satunya dengan zscore atau IQR.  \n",
    "3. Menganalisa data yang memiliki skew, *sangat disarankan tidak menggunakan MEAN* karena MEAN memiliki sifat not robust atau \n",
    "   sensitif dengan data yang memiliki outlier, sehingga proses analisis dapat menggunakan median karena *median bersifat \n",
    "   robust*."
   ]
  },
  {
   "cell_type": "markdown",
   "id": "98380187",
   "metadata": {},
   "source": [
    "#### Data Cleaning | Handling Outliers"
   ]
  },
  {
   "cell_type": "code",
   "execution_count": 21,
   "id": "b5f6238a",
   "metadata": {},
   "outputs": [
    {
     "name": "stdout",
     "output_type": "stream",
     "text": [
      "Jumlah Baris dengan Outlier: 1459\n",
      "Jumlah Hasil Fiter Outlier: 1459\n"
     ]
    }
   ],
   "source": [
    "#zscore method\n",
    "\n",
    "from scipy import stats\n",
    "\n",
    "print(f'Jumlah Baris dengan Outlier: {len(hargaRumah)}')\n",
    "filtered_entries = np.array([True] * len(hargaRumah))\n",
    "for i in ['SalePrice']:\n",
    "    zscore = abs(stats.zscore(hargaRumah[i]))\n",
    "    filtered_entries = (zscore < 3) & filtered_entries\n",
    "df = df[filtered_entries]\n",
    "\n",
    "print(f'Jumlah Hasil Fiter Outlier: {len(hargaRumah)}')\n"
   ]
  },
  {
   "cell_type": "code",
   "execution_count": 22,
   "id": "be718788",
   "metadata": {},
   "outputs": [
    {
     "name": "stdout",
     "output_type": "stream",
     "text": [
      "Jumlah Baris dengan Outlier: 1459\n",
      "Jumlah Hasil Fiter Outlier: 1409\n"
     ]
    }
   ],
   "source": [
    "#IQR method\n",
    "\n",
    "print(f'Jumlah Baris dengan Outlier: {len(hargaRumah)}')\n",
    "filtered_entries = np.array([True] * len(hargaRumah))\n",
    "for i in ['SalePrice']:\n",
    "    Q1 = hargaRumah[i].quantile(0.25)\n",
    "    Q3 = hargaRumah[i].quantile(0.75)\n",
    "    IQR = Q3 - Q1\n",
    "    limitLow = Q1 - (IQR*1.5)\n",
    "    limitHigh = Q3 + (IQR*1.5)\n",
    "    \n",
    "    filtered_entries = ((hargaRumah[i] >= limitLow) & (hargaRumah[i] <= limitHigh)) & filtered_entries\n",
    "hargaRumah = hargaRumah[filtered_entries]\n",
    "print(f'Jumlah Hasil Fiter Outlier: {len(hargaRumah)}')"
   ]
  },
  {
   "cell_type": "code",
   "execution_count": 23,
   "id": "b5075738",
   "metadata": {},
   "outputs": [
    {
     "data": {
      "image/png": "[encoded data removed]",
      "text/plain": [
       "<Figure size 576x288 with 1 Axes>"
      ]
     },
     "metadata": {
      "needs_background": "light"
     },
     "output_type": "display_data"
    }
   ],
   "source": [
    "plt.figure(figsize=(8,4))\n",
    "sns.boxplot(x=\"SalePrice\", data=hargaRumah)\n",
    "plt.show()"
   ]
  },
  {
   "cell_type": "markdown",
   "id": "dc1e8097",
   "metadata": {},
   "source": [
    "#### Visualisasi Data Univariat"
   ]
  },
  {
   "cell_type": "code",
   "execution_count": 33,
   "id": "a30e8608",
   "metadata": {},
   "outputs": [
    {
     "data": {
      "text/plain": [
       "<AxesSubplot:xlabel='SalePrice', ylabel='Density'>"
      ]
     },
     "execution_count": 33,
     "metadata": {},
     "output_type": "execute_result"
    },
    {
     "data": {
      "image/png": "[encoded data removed]",
      "text/plain": [
       "<Figure size 432x288 with 1 Axes>"
      ]
     },
     "metadata": {
      "needs_background": "light"
     },
     "output_type": "display_data"
    }
   ],
   "source": [
    "sns.distplot(hargaRumah[\"SalePrice\"])"
   ]
  }
 ],
 "metadata": {
  "kernelspec": {
   "display_name": "Python 3 (ipykernel)",
   "language": "python",
   "name": "python3"
  },
  "language_info": {
   "codemirror_mode": {
    "name": "ipython",
    "version": 3
   },
   "file_extension": ".py",
   "mimetype": "text/x-python",
   "name": "python",
   "nbconvert_exporter": "python",
   "pygments_lexer": "ipython3",
   "version": "3.9.7"
  }
 },
 "nbformat": 4,
 "nbformat_minor": 5
}
